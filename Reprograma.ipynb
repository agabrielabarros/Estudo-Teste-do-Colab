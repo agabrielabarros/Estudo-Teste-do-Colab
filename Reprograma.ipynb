{
  "nbformat": 4,
  "nbformat_minor": 0,
  "metadata": {
    "colab": {
      "provenance": [],
      "authorship_tag": "ABX9TyNspGVtVqnA82C7hfUFED14",
      "include_colab_link": true
    },
    "kernelspec": {
      "name": "python3",
      "display_name": "Python 3"
    },
    "language_info": {
      "name": "python"
    }
  },
  "cells": [
    {
      "cell_type": "markdown",
      "metadata": {
        "id": "view-in-github",
        "colab_type": "text"
      },
      "source": [
        "<a href=\"https://colab.research.google.com/github/agabrielabarros/Estudo-Teste-do-Colab/blob/main/Reprograma.ipynb\" target=\"_parent\"><img src=\"https://colab.research.google.com/assets/colab-badge.svg\" alt=\"Open In Colab\"/></a>"
      ]
    },
    {
      "cell_type": "markdown",
      "source": [
        "**Primeiro contat com o Colab**: =D"
      ],
      "metadata": {
        "id": "3omnCRrTu3C4"
      }
    },
    {
      "cell_type": "code",
      "execution_count": 23,
      "metadata": {
        "colab": {
          "base_uri": "https://localhost:8080/"
        },
        "id": "4JZAuUpBcSVX",
        "outputId": "48940773-ecd3-4446-fa4c-29469c2cda1c"
      },
      "outputs": [
        {
          "output_type": "stream",
          "name": "stdout",
          "text": [
            "Oi, mundo!\n"
          ]
        }
      ],
      "source": [
        "texto = \"Oi, mundo!\"\n",
        "print(texto)"
      ]
    },
    {
      "cell_type": "markdown",
      "source": [
        "**Varíavel é qualquer coisa que eu queira atribuir um valor**\n",
        "Variavel nunca tem espaço, sempre colocamos _"
      ],
      "metadata": {
        "id": "2luw5YsOo68e"
      }
    },
    {
      "cell_type": "code",
      "source": [
        "Numero = 1\n",
        "#variavel e valor\n",
        "print (Numero)"
      ],
      "metadata": {
        "colab": {
          "base_uri": "https://localhost:8080/"
        },
        "id": "rOsIaqTNnJqy",
        "outputId": "612b873d-8d85-4bb4-f181-20ff4de17afa"
      },
      "execution_count": 24,
      "outputs": [
        {
          "output_type": "stream",
          "name": "stdout",
          "text": [
            "1\n"
          ]
        }
      ]
    },
    {
      "cell_type": "markdown",
      "source": [
        "**Quando o valor atríbuido a uma variável é um número, NÃO peciso colocar entre aspas**\n",
        " - Podemos somar número inteiro e float\n",
        ""
      ],
      "metadata": {
        "id": "OXQUWmJHojQ-"
      }
    },
    {
      "cell_type": "code",
      "source": [
        "numero1 = 10\n",
        "numero2 = 20\n",
        "print (numero1+numero2)\n",
        "print (numero1-numero2)\n",
        "print (numero1/numero2)\n",
        "print (numero1*numero2)\n",
        "print (numero1%numero2)"
      ],
      "metadata": {
        "colab": {
          "base_uri": "https://localhost:8080/"
        },
        "id": "bH6SJYoJnfwf",
        "outputId": "04e60613-a727-4f1e-a85d-e9de647eee29"
      },
      "execution_count": 17,
      "outputs": [
        {
          "output_type": "stream",
          "name": "stdout",
          "text": [
            "30\n",
            "-10\n",
            "0.5\n",
            "200\n",
            "10\n"
          ]
        }
      ]
    },
    {
      "cell_type": "code",
      "source": [
        "idade = 31 #int (inteiro)\n",
        "temperatura = 36.7 #float (numero quebrado)\n",
        "\n",
        "soma = idade + temperatura\n",
        "print (soma)\n",
        "print (type (soma))"
      ],
      "metadata": {
        "colab": {
          "base_uri": "https://localhost:8080/"
        },
        "id": "ptEbFT0tr10J",
        "outputId": "673ef3cc-67d2-48ad-95a4-018ec76b0e71"
      },
      "execution_count": 21,
      "outputs": [
        {
          "output_type": "stream",
          "name": "stdout",
          "text": [
            "67.7\n",
            "<class 'float'>\n"
          ]
        }
      ]
    },
    {
      "cell_type": "markdown",
      "source": [
        "**Quando o valor atribuido é um texto, preciso colocar entre aspas** \"\"texto em itálico\n",
        "\n",
        "Para saber o tipo do variável use o cód: print (type (nome da variável))\n",
        "\n",
        "Quando você soma dois textos (strings), ela junta o texto"
      ],
      "metadata": {
        "id": "XhJAmWWAoGrn"
      }
    },
    {
      "cell_type": "code",
      "source": [
        "texto1 = \"sol \"\n",
        "texto2 = \"lua \"\n",
        "print (type (numero3))\n",
        "\n",
        "texto = texto1 + texto2\n",
        "print(texto)"
      ],
      "metadata": {
        "colab": {
          "base_uri": "https://localhost:8080/"
        },
        "id": "n_uVy0NHnfca",
        "outputId": "1c68d89c-900a-434a-b75d-9b7404252195"
      },
      "execution_count": 28,
      "outputs": [
        {
          "output_type": "stream",
          "name": "stdout",
          "text": [
            "<class 'str'>\n",
            "sol lua \n"
          ]
        }
      ]
    },
    {
      "cell_type": "markdown",
      "source": [],
      "metadata": {
        "id": "8kddJynQgPbA"
      }
    },
    {
      "cell_type": "markdown",
      "source": [
        "**BOOLEANO - verdadeiro ou falso (uma condição)**\n"
      ],
      "metadata": {
        "id": "0B2QwO2uv2tg"
      }
    },
    {
      "cell_type": "code",
      "source": [
        "eh_maior_de_idade = True\n",
        "tem_ID = False\n",
        "Pode_dirigir = eh_maior_de_idade and tem_ID\n",
        "print(Pode_dirigir)\n"
      ],
      "metadata": {
        "colab": {
          "base_uri": "https://localhost:8080/"
        },
        "id": "qYFldoxIwA7u",
        "outputId": "bc0b7eea-29e6-4ae8-fad2-dd51d0b1f1d5"
      },
      "execution_count": 31,
      "outputs": [
        {
          "output_type": "stream",
          "name": "stdout",
          "text": [
            "False\n"
          ]
        }
      ]
    }
  ]
}