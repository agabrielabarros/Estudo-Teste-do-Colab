{
  "nbformat": 4,
  "nbformat_minor": 0,
  "metadata": {
    "colab": {
      "provenance": [],
      "authorship_tag": "ABX9TyMrp8JaXe9+xIts9Dsxxgg/",
      "include_colab_link": true
    },
    "kernelspec": {
      "name": "python3",
      "display_name": "Python 3"
    },
    "language_info": {
      "name": "python"
    }
  },
  "cells": [
    {
      "cell_type": "markdown",
      "metadata": {
        "id": "view-in-github",
        "colab_type": "text"
      },
      "source": [
        "<a href=\"https://colab.research.google.com/github/agabrielabarros/Estudo-Teste-do-Colab/blob/main/Reprograma.ipynb\" target=\"_parent\"><img src=\"https://colab.research.google.com/assets/colab-badge.svg\" alt=\"Open In Colab\"/></a>"
      ]
    },
    {
      "cell_type": "markdown",
      "source": [
        "**Primeiro contat com o Colab**: =D"
      ],
      "metadata": {
        "id": "3omnCRrTu3C4"
      }
    },
    {
      "cell_type": "code",
      "execution_count": 23,
      "metadata": {
        "colab": {
          "base_uri": "https://localhost:8080/"
        },
        "id": "4JZAuUpBcSVX",
        "outputId": "48940773-ecd3-4446-fa4c-29469c2cda1c"
      },
      "outputs": [
        {
          "output_type": "stream",
          "name": "stdout",
          "text": [
            "Oi, mundo!\n"
          ]
        }
      ],
      "source": [
        "texto = \"Oi, mundo!\"\n",
        "print(texto)"
      ]
    },
    {
      "cell_type": "markdown",
      "source": [
        "**Varíavel é qualquer coisa que eu queira atribuir um valor**\n",
        "Variavel nunca tem espaço, sempre colocamos _"
      ],
      "metadata": {
        "id": "2luw5YsOo68e"
      }
    },
    {
      "cell_type": "code",
      "source": [
        "Numero = 1\n",
        "#variavel e valor\n",
        "print (Numero)"
      ],
      "metadata": {
        "colab": {
          "base_uri": "https://localhost:8080/"
        },
        "id": "rOsIaqTNnJqy",
        "outputId": "612b873d-8d85-4bb4-f181-20ff4de17afa"
      },
      "execution_count": 24,
      "outputs": [
        {
          "output_type": "stream",
          "name": "stdout",
          "text": [
            "1\n"
          ]
        }
      ]
    },
    {
      "cell_type": "markdown",
      "source": [
        "**Quando o valor atríbuido a uma variável é um número, NÃO peciso colocar entre aspas**\n",
        " - Podemos somar número inteiro e float\n",
        ""
      ],
      "metadata": {
        "id": "OXQUWmJHojQ-"
      }
    },
    {
      "cell_type": "code",
      "source": [
        "numero1 = 10\n",
        "numero2 = 20\n",
        "print (numero1+numero2)\n",
        "print (numero1-numero2)\n",
        "print (numero1/numero2)\n",
        "print (numero1*numero2)\n",
        "print (numero1%numero2)"
      ],
      "metadata": {
        "colab": {
          "base_uri": "https://localhost:8080/"
        },
        "id": "bH6SJYoJnfwf",
        "outputId": "04e60613-a727-4f1e-a85d-e9de647eee29"
      },
      "execution_count": 17,
      "outputs": [
        {
          "output_type": "stream",
          "name": "stdout",
          "text": [
            "30\n",
            "-10\n",
            "0.5\n",
            "200\n",
            "10\n"
          ]
        }
      ]
    },
    {
      "cell_type": "code",
      "source": [
        "idade = 31 #int (inteiro)\n",
        "temperatura = 36.7 #float (numero quebrado)\n",
        "\n",
        "soma = idade + temperatura\n",
        "print (soma)\n",
        "print (type (soma))"
      ],
      "metadata": {
        "colab": {
          "base_uri": "https://localhost:8080/"
        },
        "id": "ptEbFT0tr10J",
        "outputId": "673ef3cc-67d2-48ad-95a4-018ec76b0e71"
      },
      "execution_count": 21,
      "outputs": [
        {
          "output_type": "stream",
          "name": "stdout",
          "text": [
            "67.7\n",
            "<class 'float'>\n"
          ]
        }
      ]
    },
    {
      "cell_type": "markdown",
      "source": [
        "**Quando o valor atribuido é um texto, preciso colocar entre aspas** \"\"texto em itálico\n",
        "\n",
        "Para saber o tipo do variável use o cód: print (type (nome da variável))\n",
        "\n",
        "Quando você soma dois textos (strings), ela junta o texto"
      ],
      "metadata": {
        "id": "XhJAmWWAoGrn"
      }
    },
    {
      "cell_type": "code",
      "source": [
        "texto1 = \"sol \"\n",
        "texto2 = \"lua \"\n",
        "print (type (numero3))\n",
        "\n",
        "texto = texto1 + texto2\n",
        "print(texto)"
      ],
      "metadata": {
        "colab": {
          "base_uri": "https://localhost:8080/"
        },
        "id": "n_uVy0NHnfca",
        "outputId": "1c68d89c-900a-434a-b75d-9b7404252195"
      },
      "execution_count": 28,
      "outputs": [
        {
          "output_type": "stream",
          "name": "stdout",
          "text": [
            "<class 'str'>\n",
            "sol lua \n"
          ]
        }
      ]
    },
    {
      "cell_type": "markdown",
      "source": [],
      "metadata": {
        "id": "8kddJynQgPbA"
      }
    },
    {
      "cell_type": "markdown",
      "source": [
        "**BOOLEANO - verdadeiro ou falso (uma condição)**\n"
      ],
      "metadata": {
        "id": "0B2QwO2uv2tg"
      }
    },
    {
      "cell_type": "code",
      "source": [
        "eh_maior_de_idade = True\n",
        "tem_ID = True\n",
        "Pode_dirigir = eh_maior_de_idade and tem_ID\n",
        "print(Pode_dirigir)\n"
      ],
      "metadata": {
        "colab": {
          "base_uri": "https://localhost:8080/"
        },
        "id": "qYFldoxIwA7u",
        "outputId": "bc0b7eea-29e6-4ae8-fad2-dd51d0b1f1d5"
      },
      "execution_count": 31,
      "outputs": [
        {
          "output_type": "stream",
          "name": "stdout",
          "text": [
            "False\n"
          ]
        }
      ]
    },
    {
      "cell_type": "markdown",
      "source": [
        "**Consigo somar quando quero colocar texto e número? Em regra Não**\n",
        "Temos que atribuir ao número umas aspas para transformar aquele número em texto, para ficar tudo string\n",
        "\n",
        "Mas é possível usar funções em python, transformando as váriáveis e tbm usar funções como no excel, para termos ex: min (1,2,3,4) = 4"
      ],
      "metadata": {
        "id": "vUKZHB3MxqPu"
      }
    },
    {
      "cell_type": "code",
      "source": [
        "int(\"5\") # Essa função faz com que a o texto 5 se converta para número inteiro"
      ],
      "metadata": {
        "colab": {
          "base_uri": "https://localhost:8080/"
        },
        "id": "2aQgi57zycyK",
        "outputId": "1793baf9-5c20-4f94-f197-33abd59477ab"
      },
      "execution_count": 32,
      "outputs": [
        {
          "output_type": "execute_result",
          "data": {
            "text/plain": [
              "5"
            ]
          },
          "metadata": {},
          "execution_count": 32
        }
      ]
    },
    {
      "cell_type": "markdown",
      "source": [
        "**CONDICIONANTES**\n",
        "\n",
        "O sistema só vai parar quando encontrar a condição verdadeira. Então ele pode passar por várias condições até achar a verdadeira e mostrar o resultado."
      ],
      "metadata": {
        "id": "wL2h8NCQ0JSm"
      }
    },
    {
      "cell_type": "code",
      "source": [
        "#Confidionantes if: SE\n",
        "\n",
        "if 1>0:\n",
        "  print(\"Uhuul\")"
      ],
      "metadata": {
        "colab": {
          "base_uri": "https://localhost:8080/"
        },
        "id": "rMDmFA19y_gE",
        "outputId": "be16a8f8-a30d-4ea0-bf9f-79456b750d8d"
      },
      "execution_count": 35,
      "outputs": [
        {
          "output_type": "stream",
          "name": "stdout",
          "text": [
            "Uhuul\n"
          ]
        }
      ]
    },
    {
      "cell_type": "code",
      "source": [
        "#Condicionantes else: SENÃO\n",
        "if 1<0:\n",
        "  print(\"Uhuul\")\n",
        "else:\n",
        "  print(\"=C\")"
      ],
      "metadata": {
        "colab": {
          "base_uri": "https://localhost:8080/"
        },
        "id": "d4lYnYlE0_3q",
        "outputId": "a1d3a9ff-bee6-4819-baf1-ad059a62176c"
      },
      "execution_count": 38,
      "outputs": [
        {
          "output_type": "stream",
          "name": "stdout",
          "text": [
            "=C\n"
          ]
        }
      ]
    },
    {
      "cell_type": "code",
      "source": [
        "#Condicionantes elif: SENÃO, E SE\n",
        "if 1 < 0:\n",
        "  print(\"Uhuul\")\n",
        "elif 1 > 0:\n",
        "  print(\"agora sim\")"
      ],
      "metadata": {
        "colab": {
          "base_uri": "https://localhost:8080/"
        },
        "id": "RPWhiTNU1TNa",
        "outputId": "7f48568f-2674-403c-8aed-10a0f5020b98"
      },
      "execution_count": 42,
      "outputs": [
        {
          "output_type": "stream",
          "name": "stdout",
          "text": [
            "agora sim\n"
          ]
        }
      ]
    },
    {
      "cell_type": "code",
      "source": [
        "#Condicionantes elif: SENÃO, E SE\n",
        "if 1 < 0:\n",
        "  print(\"Uhuul\")\n",
        "elif 1 == 0:\n",
        "  print(\"agora sim\")\n",
        "else:\n",
        "  print(\"=C\")"
      ],
      "metadata": {
        "colab": {
          "base_uri": "https://localhost:8080/"
        },
        "id": "ZEcKDwdl2D5c",
        "outputId": "e96fadea-0d92-4576-82f2-4c78e252332c"
      },
      "execution_count": 43,
      "outputs": [
        {
          "output_type": "stream",
          "name": "stdout",
          "text": [
            "=C\n"
          ]
        }
      ]
    },
    {
      "cell_type": "markdown",
      "source": [
        "**AGORA VAMOS PRATICAR**"
      ],
      "metadata": {
        "id": "eEsxPwbW2vC8"
      }
    },
    {
      "cell_type": "code",
      "source": [
        "#passando por várias condições para achar a certa\n",
        "num1=1\n",
        "num2=2\n",
        "\n",
        "if num1 < 0:\n",
        "\n"
      ],
      "metadata": {
        "id": "gbD4Tyvy2xrL"
      },
      "execution_count": null,
      "outputs": []
    }
  ]
}