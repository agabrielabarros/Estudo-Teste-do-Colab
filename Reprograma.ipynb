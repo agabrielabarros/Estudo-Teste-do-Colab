{
  "nbformat": 4,
  "nbformat_minor": 0,
  "metadata": {
    "colab": {
      "provenance": [],
      "authorship_tag": "ABX9TyMvHd26Sa5FsGEZ6FFJSFSL",
      "include_colab_link": true
    },
    "kernelspec": {
      "name": "python3",
      "display_name": "Python 3"
    },
    "language_info": {
      "name": "python"
    }
  },
  "cells": [
    {
      "cell_type": "markdown",
      "metadata": {
        "id": "view-in-github",
        "colab_type": "text"
      },
      "source": [
        "<a href=\"https://colab.research.google.com/github/agabrielabarros/Estudo-Teste-do-Colab/blob/main/Reprograma.ipynb\" target=\"_parent\"><img src=\"https://colab.research.google.com/assets/colab-badge.svg\" alt=\"Open In Colab\"/></a>"
      ]
    },
    {
      "cell_type": "code",
      "execution_count": 2,
      "metadata": {
        "colab": {
          "base_uri": "https://localhost:8080/"
        },
        "id": "4JZAuUpBcSVX",
        "outputId": "bc714cb6-4f26-41c1-cdd6-4b183a1233be"
      },
      "outputs": [
        {
          "output_type": "stream",
          "name": "stdout",
          "text": [
            "Oi, mundo!\n"
          ]
        }
      ],
      "source": [
        "texto = \"Oi, mundo!\"\n",
        "print(texto)"
      ]
    },
    {
      "cell_type": "markdown",
      "source": [
        "**Varíavel é qualquer coisa que eu queira atribuir um valor**"
      ],
      "metadata": {
        "id": "2luw5YsOo68e"
      }
    },
    {
      "cell_type": "code",
      "source": [
        "Numero = 1\n",
        "print (Numero)"
      ],
      "metadata": {
        "colab": {
          "base_uri": "https://localhost:8080/"
        },
        "id": "rOsIaqTNnJqy",
        "outputId": "dd948233-212c-4c84-9588-fdf43396bf1e"
      },
      "execution_count": 5,
      "outputs": [
        {
          "output_type": "stream",
          "name": "stdout",
          "text": [
            "1\n"
          ]
        }
      ]
    },
    {
      "cell_type": "markdown",
      "source": [
        "**Quando o valor atríbuido a uma variável é um número, NÃO peciso colocar entre aspas**\n",
        " - Podemos somar número inteiro e float\n",
        ""
      ],
      "metadata": {
        "id": "OXQUWmJHojQ-"
      }
    },
    {
      "cell_type": "code",
      "source": [
        "numero1 = 10\n",
        "numero2 = 20\n",
        "print (numero1+numero2)\n",
        "print (numero1-numero2)\n",
        "print (numero1/numero2)\n",
        "print (numero1*numero2)\n",
        "print (numero1%numero2)"
      ],
      "metadata": {
        "colab": {
          "base_uri": "https://localhost:8080/"
        },
        "id": "bH6SJYoJnfwf",
        "outputId": "04e60613-a727-4f1e-a85d-e9de647eee29"
      },
      "execution_count": 17,
      "outputs": [
        {
          "output_type": "stream",
          "name": "stdout",
          "text": [
            "30\n",
            "-10\n",
            "0.5\n",
            "200\n",
            "10\n"
          ]
        }
      ]
    },
    {
      "cell_type": "code",
      "source": [
        "idade = 31 #int (inteiro)\n",
        "temperatura = 36.7 #float (numero quebrado)\n",
        "\n",
        "soma = idade + temperatura\n",
        "print (soma)\n",
        "print (type (soma))"
      ],
      "metadata": {
        "colab": {
          "base_uri": "https://localhost:8080/"
        },
        "id": "ptEbFT0tr10J",
        "outputId": "673ef3cc-67d2-48ad-95a4-018ec76b0e71"
      },
      "execution_count": 21,
      "outputs": [
        {
          "output_type": "stream",
          "name": "stdout",
          "text": [
            "67.7\n",
            "<class 'float'>\n"
          ]
        }
      ]
    },
    {
      "cell_type": "markdown",
      "source": [
        "**Quando o valor atribuido é um texto, preciso colocar entre aspas** \"\"texto em itálico\n",
        "\n",
        "Para saber o tipo do variável use o cód: print (type (nome da variável))"
      ],
      "metadata": {
        "id": "XhJAmWWAoGrn"
      }
    },
    {
      "cell_type": "code",
      "source": [
        "numero3 = \"sol\"\n",
        "numero4 = \"lua\"\n",
        "print (type (numero3))"
      ],
      "metadata": {
        "colab": {
          "base_uri": "https://localhost:8080/"
        },
        "id": "n_uVy0NHnfca",
        "outputId": "7d2d12ab-a663-4d25-fa83-b5ac817c7d2f"
      },
      "execution_count": 22,
      "outputs": [
        {
          "output_type": "stream",
          "name": "stdout",
          "text": [
            "<class 'str'>\n"
          ]
        }
      ]
    },
    {
      "cell_type": "markdown",
      "source": [],
      "metadata": {
        "id": "8kddJynQgPbA"
      }
    }
  ]
}