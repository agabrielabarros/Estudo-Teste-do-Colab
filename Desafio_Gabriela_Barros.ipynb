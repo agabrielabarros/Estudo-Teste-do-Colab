{
  "nbformat": 4,
  "nbformat_minor": 0,
  "metadata": {
    "colab": {
      "provenance": [],
      "authorship_tag": "ABX9TyNU31CqCgJwy05/8x2Lefm4",
      "include_colab_link": true
    },
    "kernelspec": {
      "name": "python3",
      "display_name": "Python 3"
    },
    "language_info": {
      "name": "python"
    }
  },
  "cells": [
    {
      "cell_type": "markdown",
      "metadata": {
        "id": "view-in-github",
        "colab_type": "text"
      },
      "source": [
        "<a href=\"https://colab.research.google.com/github/agabrielabarros/Estudo-Teste-do-Colab/blob/main/Desafio_Gabriela_Barros.ipynb\" target=\"_parent\"><img src=\"https://colab.research.google.com/assets/colab-badge.svg\" alt=\"Open In Colab\"/></a>"
      ]
    },
    {
      "cell_type": "markdown",
      "source": [
        "**`DESAFIO 1: Receita Total`**\n"
      ],
      "metadata": {
        "id": "eRc7hBIeAKZQ"
      }
    },
    {
      "cell_type": "code",
      "source": [
        "#ReproFood\n",
        "almoco = 13360.20\n",
        "jantar = 7631.14\n",
        "Receita_total = almoco + jantar\n",
        "print(\"R$\",Receita_total)"
      ],
      "metadata": {
        "colab": {
          "base_uri": "https://localhost:8080/"
        },
        "id": "072334LyCx4i",
        "outputId": "add4f6eb-83a1-42fe-84e3-199971e9ca5c"
      },
      "execution_count": null,
      "outputs": [
        {
          "output_type": "stream",
          "name": "stdout",
          "text": [
            "R$ 20991.34\n"
          ]
        }
      ]
    },
    {
      "cell_type": "markdown",
      "source": [
        "**DESAFIO 2: Meta de Receita Diária**"
      ],
      "metadata": {
        "id": "sfYC-smu_yGp"
      }
    },
    {
      "cell_type": "code",
      "source": [
        "almoco = 13360.20\n",
        "jantar = 7631.14\n",
        "Receita_total = almoco + jantar\n",
        "\n",
        "if Receita_total >= 8000:\n",
        "  print(\"Meta de Receita Alcancada!\")\n",
        "else: print(\"Meta nao alcancada!\")"
      ],
      "metadata": {
        "colab": {
          "base_uri": "https://localhost:8080/"
        },
        "id": "BvGmfGTjFlfY",
        "outputId": "790fcef3-8110-46b7-e57e-5931a821aa77"
      },
      "execution_count": null,
      "outputs": [
        {
          "output_type": "stream",
          "name": "stdout",
          "text": [
            "Meta de Receita Alcancada!\n"
          ]
        }
      ]
    },
    {
      "cell_type": "markdown",
      "source": [
        "**DESAFIO 3: Tempo de Entrega**"
      ],
      "metadata": {
        "id": "709KjBfNGTGv"
      }
    },
    {
      "cell_type": "code",
      "source": [
        "Tempo_prometido_bebidas = 30 , \"minutos\"\n",
        "Tempo_prometido_sobremesas = 45 , \"minutos\"\n",
        "\n",
        "Tempo_real_de_entrega_bebidas = 35 , \"minutos\"\n",
        "Tempo_real_de_sobremesas = 40 , \"minutos\"\n",
        "\n",
        "#tempo de entrega menor ou igual?\n",
        "entrega_no_prazo_bebidas = Tempo_real_de_entrega_bebidas <= Tempo_prometido_bebidas\n",
        "entrega_no_prazo_sobremesas = Tempo_real_de_sobremesas <= Tempo_prometido_sobremesas\n",
        "\n",
        "if entrega_no_prazo_bebidas:\n",
        "  print (\"cumpriu o tempo de entrega das bebidas\")\n",
        "  print (\"Parabéns\")\n",
        "else:\n",
        "  print (\"Não cumpriu o prazo de entrega das bebidas\")\n",
        "  print (\"Precisamos melhorar!\")\n",
        "\n",
        "\n",
        "if entrega_no_prazo_sobremesas:\n",
        "  print (\"cumpriu o tempo de entregadas sobremesas\")\n",
        "  print (\"Parabéns\")\n",
        "else:\n",
        "  print (\"Não cumpriu o prazo de entrega das sobremesas\")\n",
        "  print (\"Precisamos melhorar!\")\n"
      ],
      "metadata": {
        "colab": {
          "base_uri": "https://localhost:8080/"
        },
        "id": "Ana-nvGuGKVh",
        "outputId": "3f2a86e9-9156-4e3c-87aa-eca4ee22dd2f"
      },
      "execution_count": null,
      "outputs": [
        {
          "output_type": "stream",
          "name": "stdout",
          "text": [
            "Não cumpriu o prazo de entrega das bebidas\n",
            "Precisamos melhorar!\n",
            "cumpriu o tempo de entregadas sobremesas\n",
            "Parabéns\n"
          ]
        }
      ]
    },
    {
      "cell_type": "markdown",
      "source": [
        "**Lógica do desafio 3**"
      ],
      "metadata": {
        "id": "2U9uAsCjPOlg"
      }
    },
    {
      "cell_type": "code",
      "source": [
        "#Bebidas\n",
        "30 #Prometido\n",
        "35 #Real\n",
        "\n",
        "#Sobremesas:\n",
        "45 # prometido\n",
        "40 #real\n",
        "\n",
        "if 35 <= 30:\n",
        "  print(\"Bebidas: dentro do prazo\")\n",
        "else:\n",
        "  print(\"Bebidas: fora do prazo\")\n",
        "\n",
        "\n",
        "if 40 <= 45:\n",
        "  print (\"Sobremesas: dentro do prazo\")\n",
        "else:\n",
        "  print(\"Sobremesas: fora do prazo\")"
      ],
      "metadata": {
        "id": "1TWGGhr0H82X",
        "colab": {
          "base_uri": "https://localhost:8080/"
        },
        "outputId": "becf1985-d3ee-42e3-dd26-7a7bbcae2f98"
      },
      "execution_count": 45,
      "outputs": [
        {
          "output_type": "stream",
          "name": "stdout",
          "text": [
            "Bebidas: fora do prazo\n",
            "Sobremesas: dentro do prazo\n"
          ]
        }
      ]
    }
  ]
}